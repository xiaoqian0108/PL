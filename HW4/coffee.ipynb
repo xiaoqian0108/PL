{
 "cells": [
  {
   "cell_type": "code",
   "execution_count": 38,
   "id": "ebebe051",
   "metadata": {},
   "outputs": [],
   "source": [
    "import jieba\n",
    "import jieba.analyse\n",
    "import pandas as pd\n",
    "import numpy\n",
    "from collections import Counter"
   ]
  },
  {
   "cell_type": "code",
   "execution_count": 39,
   "id": "2f386222",
   "metadata": {},
   "outputs": [],
   "source": [
    "orgdata = pd.read_csv(\"coffee.csv\",encoding=\"Big5\")"
   ]
  },
  {
   "cell_type": "code",
   "execution_count": 40,
   "id": "f785c5d1",
   "metadata": {},
   "outputs": [
    {
     "data": {
      "text/html": [
       "<div>\n",
       "<style scoped>\n",
       "    .dataframe tbody tr th:only-of-type {\n",
       "        vertical-align: middle;\n",
       "    }\n",
       "\n",
       "    .dataframe tbody tr th {\n",
       "        vertical-align: top;\n",
       "    }\n",
       "\n",
       "    .dataframe thead th {\n",
       "        text-align: right;\n",
       "    }\n",
       "</style>\n",
       "<table border=\"1\" class=\"dataframe\">\n",
       "  <thead>\n",
       "    <tr style=\"text-align: right;\">\n",
       "      <th></th>\n",
       "      <th>name</th>\n",
       "      <th>stars</th>\n",
       "      <th>comment</th>\n",
       "    </tr>\n",
       "  </thead>\n",
       "  <tbody>\n",
       "    <tr>\n",
       "      <th>0</th>\n",
       "      <td>早秋咖啡</td>\n",
       "      <td>4.3</td>\n",
       "      <td>夜貓友善不限時咖啡廳 有插座有WIFI\\n有貓咪超加分\\n店外有吸煙區外桌一走進去就感受到舒...</td>\n",
       "    </tr>\n",
       "    <tr>\n",
       "      <th>1</th>\n",
       "      <td>咖啡黑潮</td>\n",
       "      <td>4.3</td>\n",
       "      <td>適合久坐聊天的好地方！蛋糕和咖啡有一定的水準。蘭姆葡萄夾心餅乾真的好吃，酒味很濃郁舒服的店，...</td>\n",
       "    </tr>\n",
       "    <tr>\n",
       "      <th>2</th>\n",
       "      <td>Sugar Man Caf?</td>\n",
       "      <td>3.9</td>\n",
       "      <td>古亭附近的深夜咖啡廳，不限時、插座數量多，客人大部分都是來讀書辦公的。\\n下午2點開始營業，...</td>\n",
       "    </tr>\n",
       "    <tr>\n",
       "      <th>3</th>\n",
       "      <td>鼠寓 Coffee Mania</td>\n",
       "      <td>4.4</td>\n",
       "      <td>今天第一次來就印像深刻，很有個性的環境，老闆很風趣的說不好喝不用錢，果然‘卡布’ 奶香綿密搭...</td>\n",
       "    </tr>\n",
       "    <tr>\n",
       "      <th>4</th>\n",
       "      <td>Toast Chat</td>\n",
       "      <td>4.6</td>\n",
       "      <td>五隻小貓咪隨時在你旁邊走來走去，店員人很親切，天使蝦水波蛋，小菜可以選兩個，選了沙拉跟炸雞，...</td>\n",
       "    </tr>\n",
       "  </tbody>\n",
       "</table>\n",
       "</div>"
      ],
      "text/plain": [
       "              name  stars                                            comment\n",
       "0             早秋咖啡    4.3  夜貓友善不限時咖啡廳 有插座有WIFI\\n有貓咪超加分\\n店外有吸煙區外桌一走進去就感受到舒...\n",
       "1             咖啡黑潮    4.3  適合久坐聊天的好地方！蛋糕和咖啡有一定的水準。蘭姆葡萄夾心餅乾真的好吃，酒味很濃郁舒服的店，...\n",
       "2   Sugar Man Caf?    3.9  古亭附近的深夜咖啡廳，不限時、插座數量多，客人大部分都是來讀書辦公的。\\n下午2點開始營業，...\n",
       "3  鼠寓 Coffee Mania    4.4  今天第一次來就印像深刻，很有個性的環境，老闆很風趣的說不好喝不用錢，果然‘卡布’ 奶香綿密搭...\n",
       "4       Toast Chat    4.6  五隻小貓咪隨時在你旁邊走來走去，店員人很親切，天使蝦水波蛋，小菜可以選兩個，選了沙拉跟炸雞，..."
      ]
     },
     "execution_count": 40,
     "metadata": {},
     "output_type": "execute_result"
    }
   ],
   "source": [
    "orgdata.head()"
   ]
  },
  {
   "cell_type": "code",
   "execution_count": 41,
   "id": "d1f5c1aa",
   "metadata": {
    "scrolled": true
   },
   "outputs": [
    {
     "data": {
      "text/html": [
       "<div>\n",
       "<style scoped>\n",
       "    .dataframe tbody tr th:only-of-type {\n",
       "        vertical-align: middle;\n",
       "    }\n",
       "\n",
       "    .dataframe tbody tr th {\n",
       "        vertical-align: top;\n",
       "    }\n",
       "\n",
       "    .dataframe thead th {\n",
       "        text-align: right;\n",
       "    }\n",
       "</style>\n",
       "<table border=\"1\" class=\"dataframe\">\n",
       "  <thead>\n",
       "    <tr style=\"text-align: right;\">\n",
       "      <th></th>\n",
       "      <th>name</th>\n",
       "      <th>stars</th>\n",
       "      <th>comment</th>\n",
       "      <th>seg</th>\n",
       "    </tr>\n",
       "  </thead>\n",
       "  <tbody>\n",
       "    <tr>\n",
       "      <th>0</th>\n",
       "      <td>早秋咖啡</td>\n",
       "      <td>4.3</td>\n",
       "      <td>夜貓友善不限時咖啡廳 有插座有WIFI\\n有貓咪超加分\\n店外有吸煙區外桌一走進去就感受到舒...</td>\n",
       "      <td></td>\n",
       "    </tr>\n",
       "    <tr>\n",
       "      <th>1</th>\n",
       "      <td>咖啡黑潮</td>\n",
       "      <td>4.3</td>\n",
       "      <td>適合久坐聊天的好地方！蛋糕和咖啡有一定的水準。蘭姆葡萄夾心餅乾真的好吃，酒味很濃郁舒服的店，...</td>\n",
       "      <td></td>\n",
       "    </tr>\n",
       "    <tr>\n",
       "      <th>2</th>\n",
       "      <td>Sugar Man Caf?</td>\n",
       "      <td>3.9</td>\n",
       "      <td>古亭附近的深夜咖啡廳，不限時、插座數量多，客人大部分都是來讀書辦公的。\\n下午2點開始營業，...</td>\n",
       "      <td></td>\n",
       "    </tr>\n",
       "    <tr>\n",
       "      <th>3</th>\n",
       "      <td>鼠寓 Coffee Mania</td>\n",
       "      <td>4.4</td>\n",
       "      <td>今天第一次來就印像深刻，很有個性的環境，老闆很風趣的說不好喝不用錢，果然‘卡布’ 奶香綿密搭...</td>\n",
       "      <td></td>\n",
       "    </tr>\n",
       "    <tr>\n",
       "      <th>4</th>\n",
       "      <td>Toast Chat</td>\n",
       "      <td>4.6</td>\n",
       "      <td>五隻小貓咪隨時在你旁邊走來走去，店員人很親切，天使蝦水波蛋，小菜可以選兩個，選了沙拉跟炸雞，...</td>\n",
       "      <td></td>\n",
       "    </tr>\n",
       "  </tbody>\n",
       "</table>\n",
       "</div>"
      ],
      "text/plain": [
       "              name  stars                                            comment  \\\n",
       "0             早秋咖啡    4.3  夜貓友善不限時咖啡廳 有插座有WIFI\\n有貓咪超加分\\n店外有吸煙區外桌一走進去就感受到舒...   \n",
       "1             咖啡黑潮    4.3  適合久坐聊天的好地方！蛋糕和咖啡有一定的水準。蘭姆葡萄夾心餅乾真的好吃，酒味很濃郁舒服的店，...   \n",
       "2   Sugar Man Caf?    3.9  古亭附近的深夜咖啡廳，不限時、插座數量多，客人大部分都是來讀書辦公的。\\n下午2點開始營業，...   \n",
       "3  鼠寓 Coffee Mania    4.4  今天第一次來就印像深刻，很有個性的環境，老闆很風趣的說不好喝不用錢，果然‘卡布’ 奶香綿密搭...   \n",
       "4       Toast Chat    4.6  五隻小貓咪隨時在你旁邊走來走去，店員人很親切，天使蝦水波蛋，小菜可以選兩個，選了沙拉跟炸雞，...   \n",
       "\n",
       "  seg  \n",
       "0      \n",
       "1      \n",
       "2      \n",
       "3      \n",
       "4      "
      ]
     },
     "execution_count": 41,
     "metadata": {},
     "output_type": "execute_result"
    }
   ],
   "source": [
    "orgdata['seg'] = \"\"\n",
    "orgdata.head()"
   ]
  },
  {
   "cell_type": "code",
   "execution_count": 42,
   "id": "0b18e64a",
   "metadata": {},
   "outputs": [
    {
     "name": "stderr",
     "output_type": "stream",
     "text": [
      "C:\\Users\\wish9\\AppData\\Local\\Temp\\ipykernel_15648\\3626354043.py:5: SettingWithCopyWarning: \n",
      "A value is trying to be set on a copy of a slice from a DataFrame\n",
      "\n",
      "See the caveats in the documentation: https://pandas.pydata.org/pandas-docs/stable/user_guide/indexing.html#returning-a-view-versus-a-copy\n",
      "  orgdata['seg'].iloc[index] = seg_list\n"
     ]
    }
   ],
   "source": [
    "index = 0\n",
    "for documents in orgdata['comment']:\n",
    "    seg_list = jieba.analyse.extract_tags(documents, 150)\n",
    "    seg_list = jieba.lcut(documents)\n",
    "    orgdata['seg'].iloc[index] = seg_list\n",
    "    index += 1"
   ]
  },
  {
   "cell_type": "code",
   "execution_count": 43,
   "id": "e93fd3f9",
   "metadata": {},
   "outputs": [
    {
     "data": {
      "text/plain": [
       "0    [夜貓, 友善, 不限時, 咖啡, 廳,  , 有, 插座, 有, WIFI, \\n, 有貓...\n",
       "1    [適合, 久坐, 聊天, 的, 好, 地方, ！, 蛋糕, 和, 咖啡, 有, 一定, 的,...\n",
       "2    [古亭, 附近, 的, 深夜, 咖啡, 廳, ，, 不限時, 、, 插座, 數量, 多, ，...\n",
       "3    [今天, 第一次, 來, 就, 印像, 深刻, ，, 很, 有, 個性, 的, 環境, ，,...\n",
       "4    [五, 隻, 小貓, 咪, 隨時, 在, 你, 旁邊, 走, 來, 走, 去, ，, 店員人...\n",
       "Name: seg, dtype: object"
      ]
     },
     "execution_count": 43,
     "metadata": {},
     "output_type": "execute_result"
    }
   ],
   "source": [
    "orgdata['seg']"
   ]
  },
  {
   "cell_type": "code",
   "execution_count": 44,
   "id": "f74407e8",
   "metadata": {},
   "outputs": [
    {
     "data": {
      "text/html": [
       "<div>\n",
       "<style scoped>\n",
       "    .dataframe tbody tr th:only-of-type {\n",
       "        vertical-align: middle;\n",
       "    }\n",
       "\n",
       "    .dataframe tbody tr th {\n",
       "        vertical-align: top;\n",
       "    }\n",
       "\n",
       "    .dataframe thead th {\n",
       "        text-align: right;\n",
       "    }\n",
       "</style>\n",
       "<table border=\"1\" class=\"dataframe\">\n",
       "  <thead>\n",
       "    <tr style=\"text-align: right;\">\n",
       "      <th></th>\n",
       "      <th>name</th>\n",
       "      <th>stars</th>\n",
       "      <th>comment</th>\n",
       "      <th>seg</th>\n",
       "    </tr>\n",
       "  </thead>\n",
       "  <tbody>\n",
       "    <tr>\n",
       "      <th>0</th>\n",
       "      <td>早秋咖啡</td>\n",
       "      <td>4.3</td>\n",
       "      <td>夜貓友善不限時咖啡廳 有插座有WIFI\\n有貓咪超加分\\n店外有吸煙區外桌一走進去就感受到舒...</td>\n",
       "      <td>[夜貓, 友善, 不限時, 咖啡, 廳,  , 有, 插座, 有, WIFI, \\n, 有貓...</td>\n",
       "    </tr>\n",
       "    <tr>\n",
       "      <th>1</th>\n",
       "      <td>咖啡黑潮</td>\n",
       "      <td>4.3</td>\n",
       "      <td>適合久坐聊天的好地方！蛋糕和咖啡有一定的水準。蘭姆葡萄夾心餅乾真的好吃，酒味很濃郁舒服的店，...</td>\n",
       "      <td>[適合, 久坐, 聊天, 的, 好, 地方, ！, 蛋糕, 和, 咖啡, 有, 一定, 的,...</td>\n",
       "    </tr>\n",
       "    <tr>\n",
       "      <th>2</th>\n",
       "      <td>Sugar Man Caf?</td>\n",
       "      <td>3.9</td>\n",
       "      <td>古亭附近的深夜咖啡廳，不限時、插座數量多，客人大部分都是來讀書辦公的。\\n下午2點開始營業，...</td>\n",
       "      <td>[古亭, 附近, 的, 深夜, 咖啡, 廳, ，, 不限時, 、, 插座, 數量, 多, ，...</td>\n",
       "    </tr>\n",
       "    <tr>\n",
       "      <th>3</th>\n",
       "      <td>鼠寓 Coffee Mania</td>\n",
       "      <td>4.4</td>\n",
       "      <td>今天第一次來就印像深刻，很有個性的環境，老闆很風趣的說不好喝不用錢，果然‘卡布’ 奶香綿密搭...</td>\n",
       "      <td>[今天, 第一次, 來, 就, 印像, 深刻, ，, 很, 有, 個性, 的, 環境, ，,...</td>\n",
       "    </tr>\n",
       "    <tr>\n",
       "      <th>4</th>\n",
       "      <td>Toast Chat</td>\n",
       "      <td>4.6</td>\n",
       "      <td>五隻小貓咪隨時在你旁邊走來走去，店員人很親切，天使蝦水波蛋，小菜可以選兩個，選了沙拉跟炸雞，...</td>\n",
       "      <td>[五, 隻, 小貓, 咪, 隨時, 在, 你, 旁邊, 走, 來, 走, 去, ，, 店員人...</td>\n",
       "    </tr>\n",
       "  </tbody>\n",
       "</table>\n",
       "</div>"
      ],
      "text/plain": [
       "              name  stars                                            comment  \\\n",
       "0             早秋咖啡    4.3  夜貓友善不限時咖啡廳 有插座有WIFI\\n有貓咪超加分\\n店外有吸煙區外桌一走進去就感受到舒...   \n",
       "1             咖啡黑潮    4.3  適合久坐聊天的好地方！蛋糕和咖啡有一定的水準。蘭姆葡萄夾心餅乾真的好吃，酒味很濃郁舒服的店，...   \n",
       "2   Sugar Man Caf?    3.9  古亭附近的深夜咖啡廳，不限時、插座數量多，客人大部分都是來讀書辦公的。\\n下午2點開始營業，...   \n",
       "3  鼠寓 Coffee Mania    4.4  今天第一次來就印像深刻，很有個性的環境，老闆很風趣的說不好喝不用錢，果然‘卡布’ 奶香綿密搭...   \n",
       "4       Toast Chat    4.6  五隻小貓咪隨時在你旁邊走來走去，店員人很親切，天使蝦水波蛋，小菜可以選兩個，選了沙拉跟炸雞，...   \n",
       "\n",
       "                                                 seg  \n",
       "0  [夜貓, 友善, 不限時, 咖啡, 廳,  , 有, 插座, 有, WIFI, \\n, 有貓...  \n",
       "1  [適合, 久坐, 聊天, 的, 好, 地方, ！, 蛋糕, 和, 咖啡, 有, 一定, 的,...  \n",
       "2  [古亭, 附近, 的, 深夜, 咖啡, 廳, ，, 不限時, 、, 插座, 數量, 多, ，...  \n",
       "3  [今天, 第一次, 來, 就, 印像, 深刻, ，, 很, 有, 個性, 的, 環境, ，,...  \n",
       "4  [五, 隻, 小貓, 咪, 隨時, 在, 你, 旁邊, 走, 來, 走, 去, ，, 店員人...  "
      ]
     },
     "execution_count": 44,
     "metadata": {},
     "output_type": "execute_result"
    }
   ],
   "source": [
    "orgdata.head()"
   ]
  },
  {
   "cell_type": "code",
   "execution_count": 45,
   "id": "c72e14dc",
   "metadata": {},
   "outputs": [],
   "source": [
    "orgdata.to_csv(\"coffee.csv\",encoding=\"utf-8\")"
   ]
  },
  {
   "cell_type": "code",
   "execution_count": null,
   "id": "3e218a30",
   "metadata": {},
   "outputs": [],
   "source": []
  }
 ],
 "metadata": {
  "kernelspec": {
   "display_name": "Python 3 (ipykernel)",
   "language": "python",
   "name": "python3"
  },
  "language_info": {
   "codemirror_mode": {
    "name": "ipython",
    "version": 3
   },
   "file_extension": ".py",
   "mimetype": "text/x-python",
   "name": "python",
   "nbconvert_exporter": "python",
   "pygments_lexer": "ipython3",
   "version": "3.9.12"
  }
 },
 "nbformat": 4,
 "nbformat_minor": 5
}
