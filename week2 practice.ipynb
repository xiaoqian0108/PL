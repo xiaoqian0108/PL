{
 "cells": [
  {
   "cell_type": "code",
   "execution_count": 1,
   "id": "ef0cfb23",
   "metadata": {},
   "outputs": [
    {
     "name": "stdout",
     "output_type": "stream",
     "text": [
      "事件： 車禍判賠\n",
      "原告須分擔的賠償金額： 7706 元\n",
      "被告須分擔的賠償金額： 17981 元\n"
     ]
    }
   ],
   "source": [
    "event='車禍判賠'\n",
    "sum_money=25688\n",
    "a_rate=0.3\n",
    "b_rate=0.7\n",
    "a_money=sum_money*a_rate\n",
    "b_money=sum_money*b_rate\n",
    "print('事件：',event)\n",
    "print('原告須分擔的賠償金額：',int(a_money),'元')\n",
    "print('被告須分擔的賠償金額：',int(b_money),'元')"
   ]
  },
  {
   "cell_type": "code",
   "execution_count": 4,
   "id": "044a24d7",
   "metadata": {},
   "outputs": [
    {
     "name": "stdout",
     "output_type": "stream",
     "text": [
      "事件： 清償債務\n",
      "需要償還： 12608 元\n"
     ]
    }
   ],
   "source": [
    "event='清償債務'\n",
    "money=11805\n",
    "first_month=150\n",
    "second_month=300\n",
    "daily_interest=0.0005\n",
    "sum_money=money*(1+daily_interest)**59+first_month+second_month\n",
    "print('事件：',event)\n",
    "print('需要償還：',int(sum_money),'元')"
   ]
  },
  {
   "cell_type": "code",
   "execution_count": 7,
   "id": "6f60dfc7",
   "metadata": {},
   "outputs": [
    {
     "name": "stdout",
     "output_type": "stream",
     "text": [
      "請輸入案件：被告闖紅燈\n",
      "被告賠100%\n"
     ]
    }
   ],
   "source": [
    "event=input('請輸入案件：')\n",
    "if event=='被告闖紅燈':\n",
    "   print('被告賠100%')\n",
    "elif event=='原告闖紅燈':\n",
    "     print('原告多被告少')\n",
    "elif event=='被告原告接闖紅燈':\n",
    "     print('原告50%被告50%')\n",
    "else:\n",
    "     print('請填入有效訊息')"
   ]
  },
  {
   "cell_type": "code",
   "execution_count": null,
   "id": "c25ba2b6",
   "metadata": {},
   "outputs": [],
   "source": []
  }
 ],
 "metadata": {
  "kernelspec": {
   "display_name": "Python 3 (ipykernel)",
   "language": "python",
   "name": "python3"
  },
  "language_info": {
   "codemirror_mode": {
    "name": "ipython",
    "version": 3
   },
   "file_extension": ".py",
   "mimetype": "text/x-python",
   "name": "python",
   "nbconvert_exporter": "python",
   "pygments_lexer": "ipython3",
   "version": "3.9.12"
  }
 },
 "nbformat": 4,
 "nbformat_minor": 5
}
