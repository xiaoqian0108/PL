{
 "cells": [
  {
   "cell_type": "code",
   "execution_count": 1,
   "id": "aba19375",
   "metadata": {},
   "outputs": [
    {
     "name": "stdout",
     "output_type": "stream",
     "text": [
      "甲為1\n"
     ]
    }
   ],
   "source": [
    "print('觸犯道路交通管理處罰條例人員名單')\n",
    "person1 = {'name':'甲',\n",
    "           'age':40,\n",
    "           '罪責':{\n",
    "               '第62條':'汽車駕駛人駕駛汽車肇事',\n",
    "               '第12條':'汽車使用吊銷、註銷之牌照'\n",
    "           },\n",
    "           '罰鍰':{\n",
    "               '第62條':2000,\n",
    "               '第12條':5000\n",
    "           }}\n",
    "\n",
    "person2 = {'name':'乙',\n",
    "           'age':52,\n",
    "           '罪責':{\n",
    "               '第16條':'裝置高音量喇叭或其他產生噪音器物',\n",
    "               '第56條':'在禁止臨時停車處所停車',\n",
    "               '第82條':'未經許可在道路擺設攤位',\n",
    "               '第17條':'汽車不依限期參加定期檢驗或臨時檢驗'\n",
    "           },\n",
    "           \n",
    "           '罰鍰':{\n",
    "               '第16條':1200,\n",
    "               '第56條':800,\n",
    "               '第82條':1500,\n",
    "               '第17條':900\n",
    "           }}\n",
    "\n",
    "person3 = {'name':'丙',\n",
    "           'age':63,\n",
    "           '罪責':{\n",
    "               '第21條':'未領有駕駛執照駕駛小型車或機車'\n",
    "           },\n",
    "           '罰鍰':{\n",
    "               '第21條':8000\n",
    "           }}\n"
   ]
  },
  {
   "cell_type": "code",
   "execution_count": null,
   "id": "51676cab",
   "metadata": {},
   "outputs": [],
   "source": []
  }
 ],
 "metadata": {
  "kernelspec": {
   "display_name": "Python 3 (ipykernel)",
   "language": "python",
   "name": "python3"
  },
  "language_info": {
   "codemirror_mode": {
    "name": "ipython",
    "version": 3
   },
   "file_extension": ".py",
   "mimetype": "text/x-python",
   "name": "python",
   "nbconvert_exporter": "python",
   "pygments_lexer": "ipython3",
   "version": "3.9.12"
  }
 },
 "nbformat": 4,
 "nbformat_minor": 5
}
