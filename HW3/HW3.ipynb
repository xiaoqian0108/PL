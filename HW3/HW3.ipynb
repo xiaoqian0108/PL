{
 "cells": [
  {
   "cell_type": "code",
   "execution_count": 126,
   "id": "b26720c1",
   "metadata": {},
   "outputs": [],
   "source": [
    "#建立一個 Request 物件，附加Resquest Headers 的資訊\n",
    "import urllib.request as req\n",
    "url = \"https://www.ptt.cc/bbs/IU/index.html\"\n",
    "request = req.Request(url, headers = {\n",
    "    \"User-Agent\":\"Mozilla/5.0 (Windows NT 10.0; Win64; x64) AppleWebKit/537.36 (KHTML, like Gecko) Chrome/107.0.0.0 Safari/537.36\"\n",
    "})\n",
    "with req.urlopen(request) as response:\n",
    "    data =response.read().decode(\"utf-8\")"
   ]
  },
  {
   "cell_type": "code",
   "execution_count": 127,
   "id": "1e70f80f",
   "metadata": {},
   "outputs": [
    {
     "name": "stdout",
     "output_type": "stream",
     "text": [
      "[社群] 221012 IU Instagram\n",
      "[分享] IU The Golden Hour演唱會心得&Vlog分享\n",
      "[分享] CHAT-SHIRE 7週年生日快樂\n",
      "[分享] The Golden Hour演唱會後記\n",
      "[影音] 221025 IU TV THE GOLDEN HOUR花絮Ep.1\n",
      "[影音] 221026 IU x VOGUE KOREA\n",
      "[公告] IU板板規2.2  2016.06.17\n",
      "[情報] 《Broker》相關集中\n",
      "[閒聊] IU板 14週年閒聊文\n"
     ]
    }
   ],
   "source": [
    "#解析並取得每篇文章的標題\n",
    "from bs4 import BeautifulSoup\n",
    "root = bs4.BeautifulSoup(data, \"html.parser\")\n",
    "titles = root.find_all(\"div\", class_=\"title\")\n",
    "for title in titles:\n",
    "    print(title.a.string)"
   ]
  },
  {
   "cell_type": "code",
   "execution_count": 128,
   "id": "19daeaf3",
   "metadata": {},
   "outputs": [
    {
     "data": {
      "text/plain": [
       "['[社群] 221012 IU Instagram',\n",
       " '[分享] IU The Golden Hour演唱會心得&Vlog分享',\n",
       " '[分享] CHAT-SHIRE 7週年生日快樂',\n",
       " '[分享] The Golden Hour演唱會後記',\n",
       " '[影音] 221025 IU TV THE GOLDEN HOUR花絮Ep.1',\n",
       " '[影音] 221026 IU x VOGUE KOREA',\n",
       " '[公告] IU板板規2.2  2016.06.17',\n",
       " '[情報] 《Broker》相關集中',\n",
       " '[閒聊] IU板 14週年閒聊文']"
      ]
     },
     "execution_count": 128,
     "metadata": {},
     "output_type": "execute_result"
    }
   ],
   "source": [
    "#變成列表\n",
    "temp = []\n",
    "for title in titles:\n",
    "    temp.append(title.a.string)\n",
    "\n",
    "temp"
   ]
  },
  {
   "cell_type": "code",
   "execution_count": 129,
   "id": "7636eab6",
   "metadata": {},
   "outputs": [
    {
     "data": {
      "text/plain": [
       "{0: {0: '[社群] 221012 IU Instagram',\n",
       "  1: '[分享] IU The Golden Hour演唱會心得&Vlog分享',\n",
       "  2: '[分享] CHAT-SHIRE 7週年生日快樂',\n",
       "  3: '[分享] The Golden Hour演唱會後記',\n",
       "  4: '[影音] 221025 IU TV THE GOLDEN HOUR花絮Ep.1',\n",
       "  5: '[影音] 221026 IU x VOGUE KOREA',\n",
       "  6: '[公告] IU板板規2.2  2016.06.17',\n",
       "  7: '[情報] 《Broker》相關集中',\n",
       "  8: '[閒聊] IU板 14週年閒聊文'}}"
      ]
     },
     "execution_count": 129,
     "metadata": {},
     "output_type": "execute_result"
    }
   ],
   "source": [
    "#存成json檔\n",
    "import json\n",
    "\n",
    "#轉成dataframe\n",
    "df = pd.DataFrame(temp)\n",
    "\n",
    "#dataframe轉json\n",
    "df.to_json(\"iu.json\")\n",
    "\n",
    "#dataframe轉dict\n",
    "temp1 = df.to_dict()\n",
    "temp1"
   ]
  },
  {
   "cell_type": "code",
   "execution_count": 130,
   "id": "ecfc6a79",
   "metadata": {},
   "outputs": [],
   "source": [
    "#dict轉json\n",
    "with open(\"iu.json\",\"w\",encoding=\"utf-8\") as file:\n",
    "    json.dump(temp1,file,ensure_ascii=False)"
   ]
  },
  {
   "cell_type": "code",
   "execution_count": 131,
   "id": "182944f3",
   "metadata": {},
   "outputs": [],
   "source": [
    "#存成csv檔\n",
    "import csv\n",
    "\n",
    "with open(\"iu.csv\",\"w\") as file:\n",
    "    writer = csv.writer(file)\n",
    "    writer.writerow([\"IU看板文章標題\"])\n",
    "    \n",
    "    for title in titles:\n",
    "        titles=(title.a.string)\n",
    "        writer.writerow([titles])"
   ]
  },
  {
   "cell_type": "code",
   "execution_count": 132,
   "id": "753501e9",
   "metadata": {},
   "outputs": [
    {
     "data": {
      "text/html": [
       "<div>\n",
       "<style scoped>\n",
       "    .dataframe tbody tr th:only-of-type {\n",
       "        vertical-align: middle;\n",
       "    }\n",
       "\n",
       "    .dataframe tbody tr th {\n",
       "        vertical-align: top;\n",
       "    }\n",
       "\n",
       "    .dataframe thead th {\n",
       "        text-align: right;\n",
       "    }\n",
       "</style>\n",
       "<table border=\"1\" class=\"dataframe\">\n",
       "  <thead>\n",
       "    <tr style=\"text-align: right;\">\n",
       "      <th></th>\n",
       "      <th>IU看板文章標題</th>\n",
       "    </tr>\n",
       "  </thead>\n",
       "  <tbody>\n",
       "    <tr>\n",
       "      <th>0</th>\n",
       "      <td>[社群] 221012 IU Instagram</td>\n",
       "    </tr>\n",
       "    <tr>\n",
       "      <th>1</th>\n",
       "      <td>[分享] IU The Golden Hour演唱會心得&amp;Vlog分享</td>\n",
       "    </tr>\n",
       "    <tr>\n",
       "      <th>2</th>\n",
       "      <td>[分享] CHAT-SHIRE 7週年生日快樂</td>\n",
       "    </tr>\n",
       "    <tr>\n",
       "      <th>3</th>\n",
       "      <td>[分享] The Golden Hour演唱會後記</td>\n",
       "    </tr>\n",
       "    <tr>\n",
       "      <th>4</th>\n",
       "      <td>[影音] 221025 IU TV THE GOLDEN HOUR花絮Ep.1</td>\n",
       "    </tr>\n",
       "    <tr>\n",
       "      <th>5</th>\n",
       "      <td>[影音] 221026 IU x VOGUE KOREA</td>\n",
       "    </tr>\n",
       "    <tr>\n",
       "      <th>6</th>\n",
       "      <td>[公告] IU板板規2.2  2016.06.17</td>\n",
       "    </tr>\n",
       "    <tr>\n",
       "      <th>7</th>\n",
       "      <td>[情報] 《Broker》相關集中</td>\n",
       "    </tr>\n",
       "    <tr>\n",
       "      <th>8</th>\n",
       "      <td>[閒聊] IU板 14週年閒聊文</td>\n",
       "    </tr>\n",
       "  </tbody>\n",
       "</table>\n",
       "</div>"
      ],
      "text/plain": [
       "                                  IU看板文章標題\n",
       "0                 [社群] 221012 IU Instagram\n",
       "1      [分享] IU The Golden Hour演唱會心得&Vlog分享\n",
       "2                  [分享] CHAT-SHIRE 7週年生日快樂\n",
       "3                [分享] The Golden Hour演唱會後記\n",
       "4  [影音] 221025 IU TV THE GOLDEN HOUR花絮Ep.1\n",
       "5             [影音] 221026 IU x VOGUE KOREA\n",
       "6                [公告] IU板板規2.2  2016.06.17\n",
       "7                        [情報] 《Broker》相關集中\n",
       "8                         [閒聊] IU板 14週年閒聊文"
      ]
     },
     "execution_count": 132,
     "metadata": {},
     "output_type": "execute_result"
    }
   ],
   "source": [
    "#讀取csv檔\n",
    "import pandas as pd\n",
    "iucsv = pd.read_csv(\"iu.csv\",encoding=\"Big5\")\n",
    "iucsv"
   ]
  },
  {
   "cell_type": "code",
   "execution_count": null,
   "id": "03353e6e",
   "metadata": {},
   "outputs": [],
   "source": []
  },
  {
   "cell_type": "code",
   "execution_count": 133,
   "id": "496879c0",
   "metadata": {},
   "outputs": [
    {
     "name": "stdout",
     "output_type": "stream",
     "text": [
      "[{\"IU看板文章標題\":\"[社群] 221012 IU Instagram\"},{\"IU看板文章標題\":\"[分享] IU The Golden Hour演唱會心得&Vlog分享\"},{\"IU看板文章標題\":\"[分享] CHAT-SHIRE 7週年生日快樂\"},{\"IU看板文章標題\":\"[分享] The Golden Hour演唱會後記\"},{\"IU看板文章標題\":\"[影音] 221025 IU TV THE GOLDEN HOUR花絮Ep.1\"},{\"IU看板文章標題\":\"[影音] 221026 IU x VOGUE KOREA\"},{\"IU看板文章標題\":\"[公告] IU板板規2.2  2016.06.17\"},{\"IU看板文章標題\":\"[情報] 《Broker》相關集中\"},{\"IU看板文章標題\":\"[閒聊] IU板 14週年閒聊文\"}]\n"
     ]
    }
   ],
   "source": [
    "#顯示json(有別於temp1，這邊只是想讓它顯示出來有大標比較好看)\n",
    "iujson = iucsv.to_json(orient='records', force_ascii=False)\n",
    "print(iujson)"
   ]
  },
  {
   "cell_type": "code",
   "execution_count": null,
   "id": "40aac36c",
   "metadata": {},
   "outputs": [],
   "source": []
  }
 ],
 "metadata": {
  "kernelspec": {
   "display_name": "Python 3 (ipykernel)",
   "language": "python",
   "name": "python3"
  },
  "language_info": {
   "codemirror_mode": {
    "name": "ipython",
    "version": 3
   },
   "file_extension": ".py",
   "mimetype": "text/x-python",
   "name": "python",
   "nbconvert_exporter": "python",
   "pygments_lexer": "ipython3",
   "version": "3.9.12"
  }
 },
 "nbformat": 4,
 "nbformat_minor": 5
}
