{
 "cells": [
  {
   "cell_type": "code",
   "execution_count": 7,
   "id": "4e0e0929",
   "metadata": {},
   "outputs": [],
   "source": [
    "import json"
   ]
  },
  {
   "cell_type": "code",
   "execution_count": 8,
   "id": "b21da7a8",
   "metadata": {},
   "outputs": [
    {
     "data": {
      "text/plain": [
       "dict"
      ]
     },
     "execution_count": 8,
     "metadata": {},
     "output_type": "execute_result"
    }
   ],
   "source": [
    "#將json檔匯入，存入dict中\n",
    "#這份資料是IU的歷年演唱會\n",
    "test = open('concert.json',encoding=\"utf8\")\n",
    "Data = json.load(test)\n",
    "type(Data)"
   ]
  },
  {
   "cell_type": "code",
   "execution_count": 9,
   "id": "91dbc2b1",
   "metadata": {},
   "outputs": [
    {
     "data": {
      "text/plain": [
       "dict_items([('IU歷年演唱會', [{'年份': '2012年', '演唱會名稱': 'REAL FANTASY', '場數': 13, '場次': ['6月2－3日：首爾站,6月2－3日：首爾站,6月16日：全州站,6月30日、7月1月：水原站,7月7－8日：釜山站,7月14－15日：大邱站,9月22－23日：首爾站']}, {'年份': '2012年', '演唱會名稱': 'IU Friendship Special Concert ～Autumn 2012～', '場數': 1, '場次': ['9月17日：東京站']}, {'演唱會名稱': 'Modern Times', '年份': '2013年', '場數': 4, '場次': ['11月23－24日：首爾站,11月30日、12月1日：釜山站']}, {'演唱會名稱': 'Just One Step... That Much More', '年份': '2014年', '場數': 8, '場次': ['2014年5月22－25日、2014年5月29日－6月1日：首爾站']}, {'演唱會名稱': 'CHAT-SHIRE', '年份': '2015年', '場數': 7, '場次': ['11月21－22日：首爾站,11月29日：釜山站,12月6月：大邱站,12月13日：光州站,12月30－31日：首爾站']}, {'演唱會名稱': '24 STEPS : ONE TWO THREE FOUR', '年份': '2016、2017年', '場數': 4, '場次': ['12月3－4日：首爾站,12月16日：香港站,2017年1月7日：台北站']}, {'演唱會名稱': 'Palette', '年份': '2017年', '場數': 6, '場次': ['11月3日：釜山站,11月11日：光州站,11月25日：香港站,12月3日：清州站,12月9－10日：首爾站']}, {'演唱會名稱': 'dlwlrma', '年份': '2018、2019年', '場數': 10, '場次': ['10月28日：釜山站,11月10日：光州站,11月17 - 18日：首爾站,12月8日：香港站,12月15日：新加坡站,12月16日：曼谷站,12月24 - 25日：台北站,2019年1月5日：濟州站']}, {'演唱會名稱': 'LOVE, POEM', '年份': '2019年', '場數': 15, '場次': ['11月2-3日：光州站,11月9日：仁川站,11月16日：釜山站,11月23-24日：首爾站,11月30日、12月1日：台北站,12月6-7日：新加坡站,12月13日：馬尼拉站,12月21日：吉隆坡站,12月24日：曼谷站,12月28-29日：雅加達站']}, {'演唱會名稱': 'The Golden Hour', '年份': '2022年', '場數': 2, '場次': ['9月17-18日：首爾站']}])])"
      ]
     },
     "execution_count": 9,
     "metadata": {},
     "output_type": "execute_result"
    }
   ],
   "source": [
    "#查看資料內容\n",
    "Data.items()"
   ]
  },
  {
   "cell_type": "code",
   "execution_count": 10,
   "id": "1b5a3b7c",
   "metadata": {},
   "outputs": [
    {
     "data": {
      "text/plain": [
       "[{'年份': '2012年',\n",
       "  '演唱會名稱': 'REAL FANTASY',\n",
       "  '場數': 13,\n",
       "  '場次': ['6月2－3日：首爾站,6月2－3日：首爾站,6月16日：全州站,6月30日、7月1月：水原站,7月7－8日：釜山站,7月14－15日：大邱站,9月22－23日：首爾站']},\n",
       " {'年份': '2012年',\n",
       "  '演唱會名稱': 'IU Friendship Special Concert ～Autumn 2012～',\n",
       "  '場數': 1,\n",
       "  '場次': ['9月17日：東京站']},\n",
       " {'演唱會名稱': 'Modern Times',\n",
       "  '年份': '2013年',\n",
       "  '場數': 4,\n",
       "  '場次': ['11月23－24日：首爾站,11月30日、12月1日：釜山站']},\n",
       " {'演唱會名稱': 'Just One Step... That Much More',\n",
       "  '年份': '2014年',\n",
       "  '場數': 8,\n",
       "  '場次': ['2014年5月22－25日、2014年5月29日－6月1日：首爾站']},\n",
       " {'演唱會名稱': 'CHAT-SHIRE',\n",
       "  '年份': '2015年',\n",
       "  '場數': 7,\n",
       "  '場次': ['11月21－22日：首爾站,11月29日：釜山站,12月6月：大邱站,12月13日：光州站,12月30－31日：首爾站']},\n",
       " {'演唱會名稱': '24 STEPS : ONE TWO THREE FOUR',\n",
       "  '年份': '2016、2017年',\n",
       "  '場數': 4,\n",
       "  '場次': ['12月3－4日：首爾站,12月16日：香港站,2017年1月7日：台北站']},\n",
       " {'演唱會名稱': 'Palette',\n",
       "  '年份': '2017年',\n",
       "  '場數': 6,\n",
       "  '場次': ['11月3日：釜山站,11月11日：光州站,11月25日：香港站,12月3日：清州站,12月9－10日：首爾站']},\n",
       " {'演唱會名稱': 'dlwlrma',\n",
       "  '年份': '2018、2019年',\n",
       "  '場數': 10,\n",
       "  '場次': ['10月28日：釜山站,11月10日：光州站,11月17 - 18日：首爾站,12月8日：香港站,12月15日：新加坡站,12月16日：曼谷站,12月24 - 25日：台北站,2019年1月5日：濟州站']},\n",
       " {'演唱會名稱': 'LOVE, POEM',\n",
       "  '年份': '2019年',\n",
       "  '場數': 15,\n",
       "  '場次': ['11月2-3日：光州站,11月9日：仁川站,11月16日：釜山站,11月23-24日：首爾站,11月30日、12月1日：台北站,12月6-7日：新加坡站,12月13日：馬尼拉站,12月21日：吉隆坡站,12月24日：曼谷站,12月28-29日：雅加達站']},\n",
       " {'演唱會名稱': 'The Golden Hour', '年份': '2022年', '場數': 2, '場次': ['9月17-18日：首爾站']}]"
      ]
     },
     "execution_count": 10,
     "metadata": {},
     "output_type": "execute_result"
    }
   ],
   "source": [
    "temp = Data.get('IU歷年演唱會')\n",
    "temp"
   ]
  },
  {
   "cell_type": "code",
   "execution_count": 11,
   "id": "4e1e9c9a",
   "metadata": {},
   "outputs": [],
   "source": [
    "#查詢LOVE, POEM此次巡迴演唱會場次\n",
    "ask = \"LOVE, POEM\""
   ]
  },
  {
   "cell_type": "code",
   "execution_count": 13,
   "id": "0ec3dfa6",
   "metadata": {},
   "outputs": [
    {
     "name": "stdout",
     "output_type": "stream",
     "text": [
      "IU在 LOVE, POEM 巡迴演唱會的場次有 ['11月2-3日：光州站,11月9日：仁川站,11月16日：釜山站,11月23-24日：首爾站,11月30日、12月1日：台北站,12月6-7日：新加坡站,12月13日：馬尼拉站,12月21日：吉隆坡站,12月24日：曼谷站,12月28-29日：雅加達站']\n"
     ]
    }
   ],
   "source": [
    "for i in temp:\n",
    "    if ask == i.get(\"演唱會名稱\"):\n",
    "        print(\"IU在\",ask,\"巡迴演唱會的場次有\" , i.get('場次') )   "
   ]
  },
  {
   "cell_type": "code",
   "execution_count": 14,
   "id": "9b646932",
   "metadata": {},
   "outputs": [
    {
     "data": {
      "text/plain": [
       "[13, 1, 4, 8, 7, 4, 6, 10, 15, 2]"
      ]
     },
     "execution_count": 14,
     "metadata": {},
     "output_type": "execute_result"
    }
   ],
   "source": [
    "#取得每個演唱會主題各開了幾場演唱會\n",
    "contert = []\n",
    "for i in temp:\n",
    "    contert.append(i.get(\"場數\"))\n",
    "contert"
   ]
  },
  {
   "cell_type": "code",
   "execution_count": 33,
   "id": "b9eece99",
   "metadata": {},
   "outputs": [],
   "source": [
    "contert_enumerate = enumerate(contert, start = 1)"
   ]
  },
  {
   "cell_type": "code",
   "execution_count": 34,
   "id": "f8a1664d",
   "metadata": {},
   "outputs": [
    {
     "data": {
      "text/plain": [
       "[(9, 15),\n",
       " (1, 13),\n",
       " (8, 10),\n",
       " (4, 8),\n",
       " (5, 7),\n",
       " (7, 6),\n",
       " (3, 4),\n",
       " (6, 4),\n",
       " (10, 2),\n",
       " (2, 1)]"
      ]
     },
     "execution_count": 34,
     "metadata": {},
     "output_type": "execute_result"
    }
   ],
   "source": [
    "#歷年來演唱會主題所開的演唱會場數由多到少(左邊是第幾場演唱會主題，右邊是該演唱會開了幾場)\n",
    "contert_enumerate_sorted = sorted(contert_enumerate, key = lambda s: s[1] , reverse = True)\n",
    "contert_enumerate_sorted"
   ]
  },
  {
   "cell_type": "code",
   "execution_count": 35,
   "id": "7fd8c8fa",
   "metadata": {},
   "outputs": [
    {
     "data": {
      "text/plain": [
       "9"
      ]
     },
     "execution_count": 35,
     "metadata": {},
     "output_type": "execute_result"
    }
   ],
   "source": [
    "contert_enumerate_sorted[0][0]"
   ]
  },
  {
   "cell_type": "code",
   "execution_count": 36,
   "id": "084cc809",
   "metadata": {},
   "outputs": [
    {
     "name": "stdout",
     "output_type": "stream",
     "text": [
      "LOVE, POEM 在 2019年 有 15 場\n",
      "REAL FANTASY 在 2012年 有 13 場\n",
      "dlwlrma 在 2018、2019年 有 10 場\n",
      "Just One Step... That Much More 在 2014年 有 8 場\n",
      "CHAT-SHIRE 在 2015年 有 7 場\n",
      "Palette 在 2017年 有 6 場\n",
      "Modern Times 在 2013年 有 4 場\n",
      "24 STEPS : ONE TWO THREE FOUR 在 2016、2017年 有 4 場\n",
      "The Golden Hour 在 2022年 有 2 場\n",
      "IU Friendship Special Concert ～Autumn 2012～ 在 2012年 有 1 場\n"
     ]
    }
   ],
   "source": [
    "#印出排序過後每場演唱會的名稱、年份、場數\n",
    "for i in contert_enumerate_sorted:\n",
    "    j = i[0] - 1\n",
    "    print(temp[j].get(\"演唱會名稱\"),\"在\",temp[j].get(\"年份\"), \"有\", temp[j].get(\"場數\"), \"場\")"
   ]
  },
  {
   "cell_type": "code",
   "execution_count": null,
   "id": "39247d52",
   "metadata": {},
   "outputs": [],
   "source": []
  }
 ],
 "metadata": {
  "kernelspec": {
   "display_name": "Python 3 (ipykernel)",
   "language": "python",
   "name": "python3"
  },
  "language_info": {
   "codemirror_mode": {
    "name": "ipython",
    "version": 3
   },
   "file_extension": ".py",
   "mimetype": "text/x-python",
   "name": "python",
   "nbconvert_exporter": "python",
   "pygments_lexer": "ipython3",
   "version": "3.9.12"
  }
 },
 "nbformat": 4,
 "nbformat_minor": 5
}
