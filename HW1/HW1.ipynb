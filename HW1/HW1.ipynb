{
 "cells": [
  {
   "cell_type": "code",
   "execution_count": 6,
   "id": "276781f7",
   "metadata": {},
   "outputs": [],
   "source": [
    "import pandas as pd\n",
    "\n",
    "# read csv file\n",
    "opendata106b040 = pd.read_csv(\"opendata106b040.csv\")\n",
    "test = pd.read_csv(\"test.csv\")"
   ]
  },
  {
   "cell_type": "code",
   "execution_count": 5,
   "id": "f94841d7",
   "metadata": {},
   "outputs": [
    {
     "data": {
      "text/html": [
       "<div>\n",
       "<style scoped>\n",
       "    .dataframe tbody tr th:only-of-type {\n",
       "        vertical-align: middle;\n",
       "    }\n",
       "\n",
       "    .dataframe tbody tr th {\n",
       "        vertical-align: top;\n",
       "    }\n",
       "\n",
       "    .dataframe thead th {\n",
       "        text-align: right;\n",
       "    }\n",
       "</style>\n",
       "<table border=\"1\" class=\"dataframe\">\n",
       "  <thead>\n",
       "    <tr style=\"text-align: right;\">\n",
       "      <th></th>\n",
       "      <th>statistic_yyy</th>\n",
       "      <th>according</th>\n",
       "      <th>site_id</th>\n",
       "      <th>birth_order</th>\n",
       "      <th>birth_sex</th>\n",
       "      <th>mother_age</th>\n",
       "      <th>birth_count</th>\n",
       "    </tr>\n",
       "  </thead>\n",
       "  <tbody>\n",
       "    <tr>\n",
       "      <th>0</th>\n",
       "      <td>統計年度</td>\n",
       "      <td>按照別</td>\n",
       "      <td>區域別</td>\n",
       "      <td>胎次</td>\n",
       "      <td>出生者性別</td>\n",
       "      <td>生母年齡</td>\n",
       "      <td>嬰兒出生數</td>\n",
       "    </tr>\n",
       "    <tr>\n",
       "      <th>1</th>\n",
       "      <td>106</td>\n",
       "      <td>按登記日期分</td>\n",
       "      <td>新北市板橋區</td>\n",
       "      <td>1胎</td>\n",
       "      <td>男</td>\n",
       "      <td>未滿15歲</td>\n",
       "      <td>0</td>\n",
       "    </tr>\n",
       "    <tr>\n",
       "      <th>2</th>\n",
       "      <td>106</td>\n",
       "      <td>按登記日期分</td>\n",
       "      <td>新北市板橋區</td>\n",
       "      <td>1胎</td>\n",
       "      <td>男</td>\n",
       "      <td>15～19歲</td>\n",
       "      <td>15</td>\n",
       "    </tr>\n",
       "    <tr>\n",
       "      <th>3</th>\n",
       "      <td>106</td>\n",
       "      <td>按登記日期分</td>\n",
       "      <td>新北市板橋區</td>\n",
       "      <td>1胎</td>\n",
       "      <td>男</td>\n",
       "      <td>20～24歲</td>\n",
       "      <td>101</td>\n",
       "    </tr>\n",
       "    <tr>\n",
       "      <th>4</th>\n",
       "      <td>106</td>\n",
       "      <td>按登記日期分</td>\n",
       "      <td>新北市板橋區</td>\n",
       "      <td>1胎</td>\n",
       "      <td>男</td>\n",
       "      <td>25～29歲</td>\n",
       "      <td>284</td>\n",
       "    </tr>\n",
       "  </tbody>\n",
       "</table>\n",
       "</div>"
      ],
      "text/plain": [
       "  statistic_yyy according site_id birth_order birth_sex mother_age birth_count\n",
       "0          統計年度       按照別     區域別          胎次     出生者性別       生母年齡       嬰兒出生數\n",
       "1           106    按登記日期分  新北市板橋區          1胎         男      未滿15歲           0\n",
       "2           106    按登記日期分  新北市板橋區          1胎         男     15～19歲          15\n",
       "3           106    按登記日期分  新北市板橋區          1胎         男     20～24歲         101\n",
       "4           106    按登記日期分  新北市板橋區          1胎         男     25～29歲         284"
      ]
     },
     "execution_count": 5,
     "metadata": {},
     "output_type": "execute_result"
    }
   ],
   "source": [
    "opendata106b040.head()"
   ]
  },
  {
   "cell_type": "code",
   "execution_count": null,
   "id": "1c363883",
   "metadata": {},
   "outputs": [],
   "source": []
  }
 ],
 "metadata": {
  "kernelspec": {
   "display_name": "Python 3 (ipykernel)",
   "language": "python",
   "name": "python3"
  },
  "language_info": {
   "codemirror_mode": {
    "name": "ipython",
    "version": 3
   },
   "file_extension": ".py",
   "mimetype": "text/x-python",
   "name": "python",
   "nbconvert_exporter": "python",
   "pygments_lexer": "ipython3",
   "version": "3.9.12"
  }
 },
 "nbformat": 4,
 "nbformat_minor": 5
}
